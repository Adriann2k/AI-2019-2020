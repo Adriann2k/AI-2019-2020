{
 "nbformat": 4,
 "nbformat_minor": 2,
 "metadata": {
  "language_info": {
   "name": "python",
   "codemirror_mode": {
    "name": "ipython",
    "version": 3
   },
   "version": "3.7.2-final"
  },
  "orig_nbformat": 2,
  "file_extension": ".py",
  "mimetype": "text/x-python",
  "name": "python",
  "npconvert_exporter": "python",
  "pygments_lexer": "ipython3",
  "version": 3,
  "kernelspec": {
   "name": "python37264bitedb56840ffe443838fd0296dd77ff0fa",
   "display_name": "Python 3.7.2 64-bit"
  }
 },
 "cells": [
  {
   "cell_type": "markdown",
   "metadata": {},
   "source": [
    "# Comunitati in retele complexe\n",
    "\n",
    "Pentru o retea data si o impartire a nodurilor pe comunitati, sa se determine calitatea acestor comunitati folosind metrica de modularitate (https://www.cs.cmu.edu/~ckingsf/bioinfo-lectures/modularity.pdf). \n",
    "\n"
   ]
  },
  {
   "cell_type": "code",
   "execution_count": 1,
   "metadata": {},
   "outputs": [],
   "source": [
    "# read the network details\n",
    "def readNet(fileName):\n",
    "    f = open(fileName, \"r\")\n",
    "    net = {}\n",
    "    n = int(f.readline())\n",
    "    net['noNodes'] = n\n",
    "    mat = []\n",
    "    for i in range(n):\n",
    "        mat.append([])\n",
    "        line = f.readline()\n",
    "        elems = line.split(\" \")\n",
    "        for j in range(n):\n",
    "            mat[-1].append(int(elems[j]))\n",
    "    net[\"mat\"] = mat \n",
    "    degrees = []\n",
    "    noEdges = 0\n",
    "    for i in range(n):\n",
    "        d = 0\n",
    "        for j in range(n):\n",
    "            if (mat[i][j] == 1):\n",
    "                d += 1\n",
    "            if (j > i):\n",
    "                noEdges += mat[i][j]\n",
    "        degrees.append(d)\n",
    "    net[\"noEdges\"] = noEdges\n",
    "    net[\"degrees\"] = degrees\n",
    "    f.close()\n",
    "    return net\n"
   ]
  },
  {
   "cell_type": "code",
   "execution_count": 4,
   "metadata": {},
   "outputs": [],
   "source": [
    "# load a tetwork\n",
    "import os \n",
    "\n",
    "crtDir =  os.getcwd()\n",
    "filePath = os.path.join(crtDir, 'lab03_fcOptimisGA', 'communityDetection', 'data', 'net.in')\n",
    "network = readNet(filePath)\n",
    "\n"
   ]
  },
  {
   "cell_type": "code",
   "execution_count": 5,
   "metadata": {},
   "outputs": [
    {
     "name": "stderr",
     "output_type": "stream",
     "text": "C:\\Users\\laura\\AppData\\Roaming\\Python\\Python37\\site-packages\\networkx\\drawing\\nx_pylab.py:579: MatplotlibDeprecationWarning: \nThe iterable function was deprecated in Matplotlib 3.1 and will be removed in 3.3. Use np.iterable instead.\n  if not cb.iterable(width):\n"
    },
    {
     "data": {
      "image/png": "[encoded data removed]",
      "image/svg+xml": "<?xml version=\"1.0\" encoding=\"utf-8\" standalone=\"no\"?>\r\n<!DOCTYPE svg PUBLIC \"-//W3C//DTD SVG 1.1//EN\"\r\n  \"http://www.w3.org/Graphics/SVG/1.1/DTD/svg11.dtd\">\r\n<!-- Created with matplotlib (https://matplotlib.org/) -->\r\n<svg height=\"231.84pt\" version=\"1.1\" viewBox=\"0 0 237.6 231.84\" width=\"237.6pt\" xmlns=\"http://www.w3.org/2000/svg\" xmlns:xlink=\"http://www.w3.org/1999/xlink\">\r\n <defs>\r\n  <style type=\"text/css\">\r\n*{stroke-linecap:butt;stroke-linejoin:round;}\r\n  </style>\r\n </defs>\r\n <g id=\"figure_1\">\r\n  <g id=\"patch_1\">\r\n   <path d=\"M 0 231.84 \r\nL 237.6 231.84 \r\nL 237.6 0 \r\nL 0 0 \r\nz\r\n\" style=\"fill:none;\"/>\r\n  </g>\r\n  <g id=\"axes_1\">\r\n   <g id=\"patch_2\">\r\n    <path d=\"M 7.2 224.64 \r\nL 230.4 224.64 \r\nL 230.4 7.2 \r\nL 7.2 7.2 \r\nz\r\n\" style=\"fill:#ffffff;\"/>\r\n   </g>\r\n   <g id=\"LineCollection_1\">\r\n    <path clip-path=\"url(#pf14b549aa7)\" d=\"M 59.986743 204.376587 \r\nL 33.593883 127.238642 \r\n\" style=\"fill:none;stroke:#000000;stroke-opacity:0.3;\"/>\r\n    <path clip-path=\"url(#pf14b549aa7)\" d=\"M 59.986743 204.376587 \r\nL 85.47169 133.711671 \r\n\" style=\"fill:none;stroke:#000000;stroke-opacity:0.3;\"/>\r\n    <path clip-path=\"url(#pf14b549aa7)\" d=\"M 59.986743 204.376587 \r\nL 23.834522 184.886274 \r\n\" style=\"fill:none;stroke:#000000;stroke-opacity:0.3;\"/>\r\n    <path clip-path=\"url(#pf14b549aa7)\" d=\"M 33.593883 127.238642 \r\nL 85.47169 133.711671 \r\n\" style=\"fill:none;stroke:#000000;stroke-opacity:0.3;\"/>\r\n    <path clip-path=\"url(#pf14b549aa7)\" d=\"M 33.593883 127.238642 \r\nL 23.834522 184.886274 \r\n\" style=\"fill:none;stroke:#000000;stroke-opacity:0.3;\"/>\r\n    <path clip-path=\"url(#pf14b549aa7)\" d=\"M 85.47169 133.711671 \r\nL 156.392011 74.94459 \r\n\" style=\"fill:none;stroke:#000000;stroke-opacity:0.3;\"/>\r\n    <path clip-path=\"url(#pf14b549aa7)\" d=\"M 85.47169 133.711671 \r\nL 23.834522 184.886274 \r\n\" style=\"fill:none;stroke:#000000;stroke-opacity:0.3;\"/>\r\n    <path clip-path=\"url(#pf14b549aa7)\" d=\"M 213.765478 27.463413 \r\nL 156.392011 74.94459 \r\n\" style=\"fill:none;stroke:#000000;stroke-opacity:0.3;\"/>\r\n   </g>\r\n   <g id=\"matplotlib.axis_1\">\r\n    <g id=\"xtick_1\"/>\r\n    <g id=\"xtick_2\"/>\r\n    <g id=\"xtick_3\"/>\r\n    <g id=\"xtick_4\"/>\r\n   </g>\r\n   <g id=\"matplotlib.axis_2\">\r\n    <g id=\"ytick_1\"/>\r\n    <g id=\"ytick_2\"/>\r\n    <g id=\"ytick_3\"/>\r\n    <g id=\"ytick_4\"/>\r\n    <g id=\"ytick_5\"/>\r\n    <g id=\"ytick_6\"/>\r\n   </g>\r\n   <g id=\"PathCollection_1\">\r\n    <defs>\r\n     <path d=\"M 0 12.247449 \r\nC 3.248061 12.247449 6.363528 10.95698 8.660254 8.660254 \r\nC 10.95698 6.363528 12.247449 3.248061 12.247449 0 \r\nC 12.247449 -3.248061 10.95698 -6.363528 8.660254 -8.660254 \r\nC 6.363528 -10.95698 3.248061 -12.247449 0 -12.247449 \r\nC -3.248061 -12.247449 -6.363528 -10.95698 -8.660254 -8.660254 \r\nC -10.95698 -6.363528 -12.247449 -3.248061 -12.247449 0 \r\nC -12.247449 3.248061 -10.95698 6.363528 -8.660254 8.660254 \r\nC -6.363528 10.95698 -3.248061 12.247449 0 12.247449 \r\nz\r\n\" id=\"md6048fbd33\" style=\"stroke:#1f78b4;\"/>\r\n    </defs>\r\n    <g clip-path=\"url(#pf14b549aa7)\">\r\n     <use style=\"fill:#1f78b4;stroke:#1f78b4;\" x=\"59.986743\" xlink:href=\"#md6048fbd33\" y=\"204.376587\"/>\r\n     <use style=\"fill:#1f78b4;stroke:#1f78b4;\" x=\"33.593883\" xlink:href=\"#md6048fbd33\" y=\"127.238642\"/>\r\n     <use style=\"fill:#1f78b4;stroke:#1f78b4;\" x=\"85.47169\" xlink:href=\"#md6048fbd33\" y=\"133.711671\"/>\r\n     <use style=\"fill:#1f78b4;stroke:#1f78b4;\" x=\"213.765478\" xlink:href=\"#md6048fbd33\" y=\"27.463413\"/>\r\n     <use style=\"fill:#1f78b4;stroke:#1f78b4;\" x=\"156.392011\" xlink:href=\"#md6048fbd33\" y=\"74.94459\"/>\r\n     <use style=\"fill:#1f78b4;stroke:#1f78b4;\" x=\"23.834522\" xlink:href=\"#md6048fbd33\" y=\"184.886274\"/>\r\n    </g>\r\n   </g>\r\n   <g id=\"patch_3\">\r\n    <path d=\"M 7.2 224.64 \r\nL 7.2 7.2 \r\n\" style=\"fill:none;stroke:#000000;stroke-linecap:square;stroke-linejoin:miter;stroke-width:0.8;\"/>\r\n   </g>\r\n   <g id=\"patch_4\">\r\n    <path d=\"M 230.4 224.64 \r\nL 230.4 7.2 \r\n\" style=\"fill:none;stroke:#000000;stroke-linecap:square;stroke-linejoin:miter;stroke-width:0.8;\"/>\r\n   </g>\r\n   <g id=\"patch_5\">\r\n    <path d=\"M 7.2 224.64 \r\nL 230.4 224.64 \r\n\" style=\"fill:none;stroke:#000000;stroke-linecap:square;stroke-linejoin:miter;stroke-width:0.8;\"/>\r\n   </g>\r\n   <g id=\"patch_6\">\r\n    <path d=\"M 7.2 7.2 \r\nL 230.4 7.2 \r\n\" style=\"fill:none;stroke:#000000;stroke-linecap:square;stroke-linejoin:miter;stroke-width:0.8;\"/>\r\n   </g>\r\n  </g>\r\n </g>\r\n <defs>\r\n  <clipPath id=\"pf14b549aa7\">\r\n   <rect height=\"217.44\" width=\"223.2\" x=\"7.2\" y=\"7.2\"/>\r\n  </clipPath>\r\n </defs>\r\n</svg>\r\n",
      "text/plain": "<Figure size 288x288 with 1 Axes>"
     },
     "metadata": {},
     "output_type": "display_data"
    }
   ],
   "source": [
    "# plot the network \n",
    "import numpy as np \n",
    "import networkx as nx\n",
    "import matplotlib.pyplot as plt \n",
    "\n",
    "A=np.matrix(network[\"mat\"])\n",
    "G=nx.from_numpy_matrix(A)\n",
    "pos = nx.spring_layout(G)  # compute graph layout\n",
    "plt.figure(figsize=(4, 4))  # image is 8 x 8 inches \n",
    "nx.draw_networkx_nodes(G, pos, node_size=600, cmap=plt.cm.RdYlBu)\n",
    "nx.draw_networkx_edges(G, pos, alpha=0.3)\n",
    "plt.show(G)\n"
   ]
  },
  {
   "cell_type": "code",
   "execution_count": 7,
   "metadata": {},
   "outputs": [
    {
     "name": "stderr",
     "output_type": "stream",
     "text": "C:\\Users\\laura\\AppData\\Roaming\\Python\\Python37\\site-packages\\networkx\\drawing\\nx_pylab.py:579: MatplotlibDeprecationWarning: \nThe iterable function was deprecated in Matplotlib 3.1 and will be removed in 3.3. Use np.iterable instead.\n  if not cb.iterable(width):\n"
    },
    {
     "data": {
      "image/png": "[encoded data removed]",
      "image/svg+xml": "<?xml version=\"1.0\" encoding=\"utf-8\" standalone=\"no\"?>\r\n<!DOCTYPE svg PUBLIC \"-//W3C//DTD SVG 1.1//EN\"\r\n  \"http://www.w3.org/Graphics/SVG/1.1/DTD/svg11.dtd\">\r\n<!-- Created with matplotlib (https://matplotlib.org/) -->\r\n<svg height=\"231.84pt\" version=\"1.1\" viewBox=\"0 0 237.6 231.84\" width=\"237.6pt\" xmlns=\"http://www.w3.org/2000/svg\" xmlns:xlink=\"http://www.w3.org/1999/xlink\">\r\n <defs>\r\n  <style type=\"text/css\">\r\n*{stroke-linecap:butt;stroke-linejoin:round;}\r\n  </style>\r\n </defs>\r\n <g id=\"figure_1\">\r\n  <g id=\"patch_1\">\r\n   <path d=\"M 0 231.84 \r\nL 237.6 231.84 \r\nL 237.6 0 \r\nL 0 0 \r\nz\r\n\" style=\"fill:none;\"/>\r\n  </g>\r\n  <g id=\"axes_1\">\r\n   <g id=\"patch_2\">\r\n    <path d=\"M 7.2 224.64 \r\nL 230.4 224.64 \r\nL 230.4 7.2 \r\nL 7.2 7.2 \r\nz\r\n\" style=\"fill:#ffffff;\"/>\r\n   </g>\r\n   <g id=\"LineCollection_1\">\r\n    <path clip-path=\"url(#p49e8eb900c)\" d=\"M 186.90447 23.557722 \r\nL 126.072685 34.212683 \r\n\" style=\"fill:none;stroke:#000000;stroke-opacity:0.3;\"/>\r\n    <path clip-path=\"url(#p49e8eb900c)\" d=\"M 186.90447 23.557722 \r\nL 135.393656 83.706063 \r\n\" style=\"fill:none;stroke:#000000;stroke-opacity:0.3;\"/>\r\n    <path clip-path=\"url(#p49e8eb900c)\" d=\"M 186.90447 23.557722 \r\nL 209.312829 57.873736 \r\n\" style=\"fill:none;stroke:#000000;stroke-opacity:0.3;\"/>\r\n    <path clip-path=\"url(#p49e8eb900c)\" d=\"M 126.072685 34.212683 \r\nL 135.393656 83.706063 \r\n\" style=\"fill:none;stroke:#000000;stroke-opacity:0.3;\"/>\r\n    <path clip-path=\"url(#p49e8eb900c)\" d=\"M 126.072685 34.212683 \r\nL 209.312829 57.873736 \r\n\" style=\"fill:none;stroke:#000000;stroke-opacity:0.3;\"/>\r\n    <path clip-path=\"url(#p49e8eb900c)\" d=\"M 135.393656 83.706063 \r\nL 76.35058 152.419536 \r\n\" style=\"fill:none;stroke:#000000;stroke-opacity:0.3;\"/>\r\n    <path clip-path=\"url(#p49e8eb900c)\" d=\"M 135.393656 83.706063 \r\nL 209.312829 57.873736 \r\n\" style=\"fill:none;stroke:#000000;stroke-opacity:0.3;\"/>\r\n    <path clip-path=\"url(#p49e8eb900c)\" d=\"M 28.287171 208.282278 \r\nL 76.35058 152.419536 \r\n\" style=\"fill:none;stroke:#000000;stroke-opacity:0.3;\"/>\r\n   </g>\r\n   <g id=\"matplotlib.axis_1\">\r\n    <g id=\"xtick_1\"/>\r\n    <g id=\"xtick_2\"/>\r\n    <g id=\"xtick_3\"/>\r\n    <g id=\"xtick_4\"/>\r\n    <g id=\"xtick_5\"/>\r\n    <g id=\"xtick_6\"/>\r\n   </g>\r\n   <g id=\"matplotlib.axis_2\">\r\n    <g id=\"ytick_1\"/>\r\n    <g id=\"ytick_2\"/>\r\n    <g id=\"ytick_3\"/>\r\n    <g id=\"ytick_4\"/>\r\n    <g id=\"ytick_5\"/>\r\n    <g id=\"ytick_6\"/>\r\n    <g id=\"ytick_7\"/>\r\n   </g>\r\n   <g id=\"PathCollection_1\">\r\n    <defs>\r\n     <path d=\"M 0 12.247449 \r\nC 3.248061 12.247449 6.363528 10.95698 8.660254 8.660254 \r\nC 10.95698 6.363528 12.247449 3.248061 12.247449 0 \r\nC 12.247449 -3.248061 10.95698 -6.363528 8.660254 -8.660254 \r\nC 6.363528 -10.95698 3.248061 -12.247449 0 -12.247449 \r\nC -3.248061 -12.247449 -6.363528 -10.95698 -8.660254 -8.660254 \r\nC -10.95698 -6.363528 -12.247449 -3.248061 -12.247449 0 \r\nC -12.247449 3.248061 -10.95698 6.363528 -8.660254 8.660254 \r\nC -6.363528 10.95698 -3.248061 12.247449 0 12.247449 \r\nz\r\n\" id=\"C0_0_c7824afc27\"/>\r\n    </defs>\r\n    <g clip-path=\"url(#p49e8eb900c)\">\r\n     <use style=\"fill:#a50026;stroke:#a50026;\" x=\"186.90447\" xlink:href=\"#C0_0_c7824afc27\" y=\"23.557722\"/>\r\n    </g>\r\n    <g clip-path=\"url(#p49e8eb900c)\">\r\n     <use style=\"fill:#313695;stroke:#313695;\" x=\"126.072685\" xlink:href=\"#C0_0_c7824afc27\" y=\"34.212683\"/>\r\n    </g>\r\n    <g clip-path=\"url(#p49e8eb900c)\">\r\n     <use style=\"fill:#a50026;stroke:#a50026;\" x=\"135.393656\" xlink:href=\"#C0_0_c7824afc27\" y=\"83.706063\"/>\r\n    </g>\r\n    <g clip-path=\"url(#p49e8eb900c)\">\r\n     <use style=\"fill:#313695;stroke:#313695;\" x=\"28.287171\" xlink:href=\"#C0_0_c7824afc27\" y=\"208.282278\"/>\r\n    </g>\r\n    <g clip-path=\"url(#p49e8eb900c)\">\r\n     <use style=\"fill:#a50026;stroke:#a50026;\" x=\"76.35058\" xlink:href=\"#C0_0_c7824afc27\" y=\"152.419536\"/>\r\n    </g>\r\n    <g clip-path=\"url(#p49e8eb900c)\">\r\n     <use style=\"fill:#a50026;stroke:#a50026;\" x=\"209.312829\" xlink:href=\"#C0_0_c7824afc27\" y=\"57.873736\"/>\r\n    </g>\r\n   </g>\r\n   <g id=\"patch_3\">\r\n    <path d=\"M 7.2 224.64 \r\nL 7.2 7.2 \r\n\" style=\"fill:none;stroke:#000000;stroke-linecap:square;stroke-linejoin:miter;stroke-width:0.8;\"/>\r\n   </g>\r\n   <g id=\"patch_4\">\r\n    <path d=\"M 230.4 224.64 \r\nL 230.4 7.2 \r\n\" style=\"fill:none;stroke:#000000;stroke-linecap:square;stroke-linejoin:miter;stroke-width:0.8;\"/>\r\n   </g>\r\n   <g id=\"patch_5\">\r\n    <path d=\"M 7.2 224.64 \r\nL 230.4 224.64 \r\n\" style=\"fill:none;stroke:#000000;stroke-linecap:square;stroke-linejoin:miter;stroke-width:0.8;\"/>\r\n   </g>\r\n   <g id=\"patch_6\">\r\n    <path d=\"M 7.2 7.2 \r\nL 230.4 7.2 \r\n\" style=\"fill:none;stroke:#000000;stroke-linecap:square;stroke-linejoin:miter;stroke-width:0.8;\"/>\r\n   </g>\r\n  </g>\r\n </g>\r\n <defs>\r\n  <clipPath id=\"p49e8eb900c\">\r\n   <rect height=\"217.44\" width=\"223.2\" x=\"7.2\" y=\"7.2\"/>\r\n  </clipPath>\r\n </defs>\r\n</svg>\r\n",
      "text/plain": "<Figure size 288x288 with 1 Axes>"
     },
     "metadata": {},
     "output_type": "display_data"
    }
   ],
   "source": [
    "# plot a particular division in communities\n",
    "communities = [1,2,1,2,1, 1]\n",
    "\n",
    "A=np.matrix(network[\"mat\"])\n",
    "G=nx.from_numpy_matrix(A)\n",
    "pos = nx.spring_layout(G)  # compute graph layout\n",
    "plt.figure(figsize=(4, 4))  # image is 8 x 8 inches \n",
    "nx.draw_networkx_nodes(G, pos, node_size = 600, cmap = plt.cm.RdYlBu, node_color = communities)\n",
    "nx.draw_networkx_edges(G, pos, alpha = 0.3)\n",
    "plt.show(G)\n"
   ]
  },
  {
   "cell_type": "code",
   "execution_count": 9,
   "metadata": {},
   "outputs": [
    {
     "name": "stdout",
     "output_type": "stream",
     "text": "-0.125\n"
    }
   ],
   "source": [
    "# evaluate the quality of previous communities inside a network\n",
    "# https://www.cs.cmu.edu/~ckingsf/bioinfo-lectures/modularity.pdf\n",
    "\n",
    "def modularity(communities, param):\n",
    "    noNodes = param['noNodes']\n",
    "    mat = param['mat']\n",
    "    degrees = param['degrees']\n",
    "    noEdges = param['noEdges']  \n",
    "    M = 2 * noEdges\n",
    "    Q = 0.0\n",
    "    for i in range(0, noNodes):\n",
    "        for j in range(0, noNodes):\n",
    "            if (communities[i] == communities[j]):\n",
    "               Q += (mat[i][j] - degrees[i] * degrees[j] / M)\n",
    "    return Q * 1 / M\n",
    "\n",
    "print(modularity([1,2,1,2,1,1], network))"
   ]
  },
  {
   "cell_type": "markdown",
   "metadata": {},
   "source": [
    "# Homework\n",
    "\n",
    "Add GA code for identifing the communities by using modularity as fitness function\n"
   ]
  }
 ]
}